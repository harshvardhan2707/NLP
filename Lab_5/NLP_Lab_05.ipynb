{
  "nbformat": 4,
  "nbformat_minor": 0,
  "metadata": {
    "colab": {
      "provenance": []
    },
    "kernelspec": {
      "name": "python3",
      "display_name": "Python 3"
    },
    "language_info": {
      "name": "python"
    }
  },
  "cells": [
    {
      "cell_type": "markdown",
      "source": [
        "#Harshvardhan Aditya"
      ],
      "metadata": {
        "id": "xi8JgJaivY8s"
      }
    },
    {
      "cell_type": "markdown",
      "source": [
        "#E20CSE365"
      ],
      "metadata": {
        "id": "j64w5FM1vfFs"
      }
    },
    {
      "cell_type": "code",
      "execution_count": 26,
      "metadata": {
        "id": "QIQdbEjSUnaV"
      },
      "outputs": [],
      "source": [
        "import pandas as pd\n",
        "import numpy as np\n",
        "import tensorflow as tf\n",
        "from tensorflow.keras.preprocessing.text import Tokenizer\n",
        "from tensorflow.keras.preprocessing.sequence import pad_sequences\n",
        "from tensorflow import keras\n",
        "from sklearn.utils import shuffle\n",
        "from numpy import array\n",
        "from numpy import argmax\n",
        "from sklearn.preprocessing import LabelEncoder\n",
        "from sklearn.preprocessing import OneHotEncoder\n",
        "from sklearn.model_selection import train_test_split\n",
        "import matplotlib.pyplot as plt\n",
        "from sklearn.metrics import classification_report, confusion_matrix\n",
        "import seaborn as sns\n",
        "\n",
        "\n",
        "\n",
        "\n",
        "import warnings\n",
        "warnings.filterwarnings('ignore')\n",
        "import tensorflow as tf\n",
        "from sklearn.preprocessing import LabelEncoder\n",
        "import numpy as np\n",
        "import numpy as np\n",
        "import pandas as pd\n",
        "import pandas_profiling\n",
        "import matplotlib.pyplot as plt\n",
        "from sklearn.model_selection import train_test_split\n",
        "from sklearn.linear_model import LogisticRegression\n",
        "from sklearn.preprocessing import StandardScaler\n",
        "from sklearn import preprocessing\n",
        "from sklearn.metrics import accuracy_score\n",
        "from sklearn.preprocessing import minmax_scale\n",
        "from sklearn.metrics import mean_squared_error\n",
        "from sklearn.ensemble import RandomForestClassifier\n",
        "from sklearn.neighbors import KNeighborsClassifier\n",
        "from sklearn import svm\n",
        "from sklearn.tree import DecisionTreeClassifier \n",
        "from sklearn import metrics\n",
        "from sklearn.preprocessing import MultiLabelBinarizer, StandardScaler\n",
        "from sklearn.metrics import confusion_matrix, precision_recall_fscore_support\n",
        "from sklearn.metrics import auc, plot_precision_recall_curve\n",
        "import keras\n",
        "from keras.datasets import mnist\n",
        "from keras.models import Sequential,model_from_json\n",
        "from keras.layers import Dense\n",
        "from keras.optimizers import rmsprop_v2\n",
        "import pylab as plt\n",
        "from sklearn.utils.class_weight import compute_class_weight"
      ]
    },
    {
      "cell_type": "code",
      "source": [
        "from google.colab import drive\n",
        "drive.mount('/content/drive')"
      ],
      "metadata": {
        "colab": {
          "base_uri": "https://localhost:8080/"
        },
        "id": "PWG0gbFXXTdx",
        "outputId": "508bbb29-5784-46d6-f97c-92e0a1e00803"
      },
      "execution_count": 27,
      "outputs": [
        {
          "output_type": "stream",
          "name": "stdout",
          "text": [
            "Drive already mounted at /content/drive; to attempt to forcibly remount, call drive.mount(\"/content/drive\", force_remount=True).\n"
          ]
        }
      ]
    },
    {
      "cell_type": "code",
      "source": [
        "data = pd.read_json(\"/content/drive/MyDrive/News_Category_Dataset_v2.json\", lines=True)\n",
        "data.head()"
      ],
      "metadata": {
        "colab": {
          "base_uri": "https://localhost:8080/",
          "height": 206
        },
        "id": "Q1_oJ3qLXwMV",
        "outputId": "b69ed4dc-9d06-487b-f3b2-470133a6fd20"
      },
      "execution_count": 28,
      "outputs": [
        {
          "output_type": "execute_result",
          "data": {
            "text/plain": [
              "        category                                           headline  \\\n",
              "0          CRIME  There Were 2 Mass Shootings In Texas Last Week...   \n",
              "1  ENTERTAINMENT  Will Smith Joins Diplo And Nicky Jam For The 2...   \n",
              "2  ENTERTAINMENT    Hugh Grant Marries For The First Time At Age 57   \n",
              "3  ENTERTAINMENT  Jim Carrey Blasts 'Castrato' Adam Schiff And D...   \n",
              "4  ENTERTAINMENT  Julianna Margulies Uses Donald Trump Poop Bags...   \n",
              "\n",
              "           authors                                               link  \\\n",
              "0  Melissa Jeltsen  https://www.huffingtonpost.com/entry/texas-ama...   \n",
              "1    Andy McDonald  https://www.huffingtonpost.com/entry/will-smit...   \n",
              "2       Ron Dicker  https://www.huffingtonpost.com/entry/hugh-gran...   \n",
              "3       Ron Dicker  https://www.huffingtonpost.com/entry/jim-carre...   \n",
              "4       Ron Dicker  https://www.huffingtonpost.com/entry/julianna-...   \n",
              "\n",
              "                                   short_description       date  \n",
              "0  She left her husband. He killed their children... 2018-05-26  \n",
              "1                           Of course it has a song. 2018-05-26  \n",
              "2  The actor and his longtime girlfriend Anna Ebe... 2018-05-26  \n",
              "3  The actor gives Dems an ass-kicking for not fi... 2018-05-26  \n",
              "4  The \"Dietland\" actress said using the bags is ... 2018-05-26  "
            ],
            "text/html": [
              "\n",
              "  <div id=\"df-b0c4b90e-de7b-4d2c-89a2-16ba0f533b78\">\n",
              "    <div class=\"colab-df-container\">\n",
              "      <div>\n",
              "<style scoped>\n",
              "    .dataframe tbody tr th:only-of-type {\n",
              "        vertical-align: middle;\n",
              "    }\n",
              "\n",
              "    .dataframe tbody tr th {\n",
              "        vertical-align: top;\n",
              "    }\n",
              "\n",
              "    .dataframe thead th {\n",
              "        text-align: right;\n",
              "    }\n",
              "</style>\n",
              "<table border=\"1\" class=\"dataframe\">\n",
              "  <thead>\n",
              "    <tr style=\"text-align: right;\">\n",
              "      <th></th>\n",
              "      <th>category</th>\n",
              "      <th>headline</th>\n",
              "      <th>authors</th>\n",
              "      <th>link</th>\n",
              "      <th>short_description</th>\n",
              "      <th>date</th>\n",
              "    </tr>\n",
              "  </thead>\n",
              "  <tbody>\n",
              "    <tr>\n",
              "      <th>0</th>\n",
              "      <td>CRIME</td>\n",
              "      <td>There Were 2 Mass Shootings In Texas Last Week...</td>\n",
              "      <td>Melissa Jeltsen</td>\n",
              "      <td>https://www.huffingtonpost.com/entry/texas-ama...</td>\n",
              "      <td>She left her husband. He killed their children...</td>\n",
              "      <td>2018-05-26</td>\n",
              "    </tr>\n",
              "    <tr>\n",
              "      <th>1</th>\n",
              "      <td>ENTERTAINMENT</td>\n",
              "      <td>Will Smith Joins Diplo And Nicky Jam For The 2...</td>\n",
              "      <td>Andy McDonald</td>\n",
              "      <td>https://www.huffingtonpost.com/entry/will-smit...</td>\n",
              "      <td>Of course it has a song.</td>\n",
              "      <td>2018-05-26</td>\n",
              "    </tr>\n",
              "    <tr>\n",
              "      <th>2</th>\n",
              "      <td>ENTERTAINMENT</td>\n",
              "      <td>Hugh Grant Marries For The First Time At Age 57</td>\n",
              "      <td>Ron Dicker</td>\n",
              "      <td>https://www.huffingtonpost.com/entry/hugh-gran...</td>\n",
              "      <td>The actor and his longtime girlfriend Anna Ebe...</td>\n",
              "      <td>2018-05-26</td>\n",
              "    </tr>\n",
              "    <tr>\n",
              "      <th>3</th>\n",
              "      <td>ENTERTAINMENT</td>\n",
              "      <td>Jim Carrey Blasts 'Castrato' Adam Schiff And D...</td>\n",
              "      <td>Ron Dicker</td>\n",
              "      <td>https://www.huffingtonpost.com/entry/jim-carre...</td>\n",
              "      <td>The actor gives Dems an ass-kicking for not fi...</td>\n",
              "      <td>2018-05-26</td>\n",
              "    </tr>\n",
              "    <tr>\n",
              "      <th>4</th>\n",
              "      <td>ENTERTAINMENT</td>\n",
              "      <td>Julianna Margulies Uses Donald Trump Poop Bags...</td>\n",
              "      <td>Ron Dicker</td>\n",
              "      <td>https://www.huffingtonpost.com/entry/julianna-...</td>\n",
              "      <td>The \"Dietland\" actress said using the bags is ...</td>\n",
              "      <td>2018-05-26</td>\n",
              "    </tr>\n",
              "  </tbody>\n",
              "</table>\n",
              "</div>\n",
              "      <button class=\"colab-df-convert\" onclick=\"convertToInteractive('df-b0c4b90e-de7b-4d2c-89a2-16ba0f533b78')\"\n",
              "              title=\"Convert this dataframe to an interactive table.\"\n",
              "              style=\"display:none;\">\n",
              "        \n",
              "  <svg xmlns=\"http://www.w3.org/2000/svg\" height=\"24px\"viewBox=\"0 0 24 24\"\n",
              "       width=\"24px\">\n",
              "    <path d=\"M0 0h24v24H0V0z\" fill=\"none\"/>\n",
              "    <path d=\"M18.56 5.44l.94 2.06.94-2.06 2.06-.94-2.06-.94-.94-2.06-.94 2.06-2.06.94zm-11 1L8.5 8.5l.94-2.06 2.06-.94-2.06-.94L8.5 2.5l-.94 2.06-2.06.94zm10 10l.94 2.06.94-2.06 2.06-.94-2.06-.94-.94-2.06-.94 2.06-2.06.94z\"/><path d=\"M17.41 7.96l-1.37-1.37c-.4-.4-.92-.59-1.43-.59-.52 0-1.04.2-1.43.59L10.3 9.45l-7.72 7.72c-.78.78-.78 2.05 0 2.83L4 21.41c.39.39.9.59 1.41.59.51 0 1.02-.2 1.41-.59l7.78-7.78 2.81-2.81c.8-.78.8-2.07 0-2.86zM5.41 20L4 18.59l7.72-7.72 1.47 1.35L5.41 20z\"/>\n",
              "  </svg>\n",
              "      </button>\n",
              "      \n",
              "  <style>\n",
              "    .colab-df-container {\n",
              "      display:flex;\n",
              "      flex-wrap:wrap;\n",
              "      gap: 12px;\n",
              "    }\n",
              "\n",
              "    .colab-df-convert {\n",
              "      background-color: #E8F0FE;\n",
              "      border: none;\n",
              "      border-radius: 50%;\n",
              "      cursor: pointer;\n",
              "      display: none;\n",
              "      fill: #1967D2;\n",
              "      height: 32px;\n",
              "      padding: 0 0 0 0;\n",
              "      width: 32px;\n",
              "    }\n",
              "\n",
              "    .colab-df-convert:hover {\n",
              "      background-color: #E2EBFA;\n",
              "      box-shadow: 0px 1px 2px rgba(60, 64, 67, 0.3), 0px 1px 3px 1px rgba(60, 64, 67, 0.15);\n",
              "      fill: #174EA6;\n",
              "    }\n",
              "\n",
              "    [theme=dark] .colab-df-convert {\n",
              "      background-color: #3B4455;\n",
              "      fill: #D2E3FC;\n",
              "    }\n",
              "\n",
              "    [theme=dark] .colab-df-convert:hover {\n",
              "      background-color: #434B5C;\n",
              "      box-shadow: 0px 1px 3px 1px rgba(0, 0, 0, 0.15);\n",
              "      filter: drop-shadow(0px 1px 2px rgba(0, 0, 0, 0.3));\n",
              "      fill: #FFFFFF;\n",
              "    }\n",
              "  </style>\n",
              "\n",
              "      <script>\n",
              "        const buttonEl =\n",
              "          document.querySelector('#df-b0c4b90e-de7b-4d2c-89a2-16ba0f533b78 button.colab-df-convert');\n",
              "        buttonEl.style.display =\n",
              "          google.colab.kernel.accessAllowed ? 'block' : 'none';\n",
              "\n",
              "        async function convertToInteractive(key) {\n",
              "          const element = document.querySelector('#df-b0c4b90e-de7b-4d2c-89a2-16ba0f533b78');\n",
              "          const dataTable =\n",
              "            await google.colab.kernel.invokeFunction('convertToInteractive',\n",
              "                                                     [key], {});\n",
              "          if (!dataTable) return;\n",
              "\n",
              "          const docLinkHtml = 'Like what you see? Visit the ' +\n",
              "            '<a target=\"_blank\" href=https://colab.research.google.com/notebooks/data_table.ipynb>data table notebook</a>'\n",
              "            + ' to learn more about interactive tables.';\n",
              "          element.innerHTML = '';\n",
              "          dataTable['output_type'] = 'display_data';\n",
              "          await google.colab.output.renderOutput(dataTable, element);\n",
              "          const docLink = document.createElement('div');\n",
              "          docLink.innerHTML = docLinkHtml;\n",
              "          element.appendChild(docLink);\n",
              "        }\n",
              "      </script>\n",
              "    </div>\n",
              "  </div>\n",
              "  "
            ]
          },
          "metadata": {},
          "execution_count": 28
        }
      ]
    },
    {
      "cell_type": "code",
      "source": [
        "data.isnull().sum().any()"
      ],
      "metadata": {
        "colab": {
          "base_uri": "https://localhost:8080/"
        },
        "id": "yATvaJAuWCF3",
        "outputId": "afaba532-7602-48b8-d69d-52ef019d673e"
      },
      "execution_count": 29,
      "outputs": [
        {
          "output_type": "execute_result",
          "data": {
            "text/plain": [
              "False"
            ]
          },
          "metadata": {},
          "execution_count": 29
        }
      ]
    },
    {
      "cell_type": "code",
      "source": [
        "data.drop(['authors','link','date'], inplace=True, axis=1)\n",
        "data.head()"
      ],
      "metadata": {
        "colab": {
          "base_uri": "https://localhost:8080/",
          "height": 206
        },
        "id": "mjXkrRehYKSE",
        "outputId": "1587a58e-b38f-4832-a0f3-f01d8c674c74"
      },
      "execution_count": 30,
      "outputs": [
        {
          "output_type": "execute_result",
          "data": {
            "text/plain": [
              "        category                                           headline  \\\n",
              "0          CRIME  There Were 2 Mass Shootings In Texas Last Week...   \n",
              "1  ENTERTAINMENT  Will Smith Joins Diplo And Nicky Jam For The 2...   \n",
              "2  ENTERTAINMENT    Hugh Grant Marries For The First Time At Age 57   \n",
              "3  ENTERTAINMENT  Jim Carrey Blasts 'Castrato' Adam Schiff And D...   \n",
              "4  ENTERTAINMENT  Julianna Margulies Uses Donald Trump Poop Bags...   \n",
              "\n",
              "                                   short_description  \n",
              "0  She left her husband. He killed their children...  \n",
              "1                           Of course it has a song.  \n",
              "2  The actor and his longtime girlfriend Anna Ebe...  \n",
              "3  The actor gives Dems an ass-kicking for not fi...  \n",
              "4  The \"Dietland\" actress said using the bags is ...  "
            ],
            "text/html": [
              "\n",
              "  <div id=\"df-8549a1cd-83be-4ce2-9e0e-a7acba5c037f\">\n",
              "    <div class=\"colab-df-container\">\n",
              "      <div>\n",
              "<style scoped>\n",
              "    .dataframe tbody tr th:only-of-type {\n",
              "        vertical-align: middle;\n",
              "    }\n",
              "\n",
              "    .dataframe tbody tr th {\n",
              "        vertical-align: top;\n",
              "    }\n",
              "\n",
              "    .dataframe thead th {\n",
              "        text-align: right;\n",
              "    }\n",
              "</style>\n",
              "<table border=\"1\" class=\"dataframe\">\n",
              "  <thead>\n",
              "    <tr style=\"text-align: right;\">\n",
              "      <th></th>\n",
              "      <th>category</th>\n",
              "      <th>headline</th>\n",
              "      <th>short_description</th>\n",
              "    </tr>\n",
              "  </thead>\n",
              "  <tbody>\n",
              "    <tr>\n",
              "      <th>0</th>\n",
              "      <td>CRIME</td>\n",
              "      <td>There Were 2 Mass Shootings In Texas Last Week...</td>\n",
              "      <td>She left her husband. He killed their children...</td>\n",
              "    </tr>\n",
              "    <tr>\n",
              "      <th>1</th>\n",
              "      <td>ENTERTAINMENT</td>\n",
              "      <td>Will Smith Joins Diplo And Nicky Jam For The 2...</td>\n",
              "      <td>Of course it has a song.</td>\n",
              "    </tr>\n",
              "    <tr>\n",
              "      <th>2</th>\n",
              "      <td>ENTERTAINMENT</td>\n",
              "      <td>Hugh Grant Marries For The First Time At Age 57</td>\n",
              "      <td>The actor and his longtime girlfriend Anna Ebe...</td>\n",
              "    </tr>\n",
              "    <tr>\n",
              "      <th>3</th>\n",
              "      <td>ENTERTAINMENT</td>\n",
              "      <td>Jim Carrey Blasts 'Castrato' Adam Schiff And D...</td>\n",
              "      <td>The actor gives Dems an ass-kicking for not fi...</td>\n",
              "    </tr>\n",
              "    <tr>\n",
              "      <th>4</th>\n",
              "      <td>ENTERTAINMENT</td>\n",
              "      <td>Julianna Margulies Uses Donald Trump Poop Bags...</td>\n",
              "      <td>The \"Dietland\" actress said using the bags is ...</td>\n",
              "    </tr>\n",
              "  </tbody>\n",
              "</table>\n",
              "</div>\n",
              "      <button class=\"colab-df-convert\" onclick=\"convertToInteractive('df-8549a1cd-83be-4ce2-9e0e-a7acba5c037f')\"\n",
              "              title=\"Convert this dataframe to an interactive table.\"\n",
              "              style=\"display:none;\">\n",
              "        \n",
              "  <svg xmlns=\"http://www.w3.org/2000/svg\" height=\"24px\"viewBox=\"0 0 24 24\"\n",
              "       width=\"24px\">\n",
              "    <path d=\"M0 0h24v24H0V0z\" fill=\"none\"/>\n",
              "    <path d=\"M18.56 5.44l.94 2.06.94-2.06 2.06-.94-2.06-.94-.94-2.06-.94 2.06-2.06.94zm-11 1L8.5 8.5l.94-2.06 2.06-.94-2.06-.94L8.5 2.5l-.94 2.06-2.06.94zm10 10l.94 2.06.94-2.06 2.06-.94-2.06-.94-.94-2.06-.94 2.06-2.06.94z\"/><path d=\"M17.41 7.96l-1.37-1.37c-.4-.4-.92-.59-1.43-.59-.52 0-1.04.2-1.43.59L10.3 9.45l-7.72 7.72c-.78.78-.78 2.05 0 2.83L4 21.41c.39.39.9.59 1.41.59.51 0 1.02-.2 1.41-.59l7.78-7.78 2.81-2.81c.8-.78.8-2.07 0-2.86zM5.41 20L4 18.59l7.72-7.72 1.47 1.35L5.41 20z\"/>\n",
              "  </svg>\n",
              "      </button>\n",
              "      \n",
              "  <style>\n",
              "    .colab-df-container {\n",
              "      display:flex;\n",
              "      flex-wrap:wrap;\n",
              "      gap: 12px;\n",
              "    }\n",
              "\n",
              "    .colab-df-convert {\n",
              "      background-color: #E8F0FE;\n",
              "      border: none;\n",
              "      border-radius: 50%;\n",
              "      cursor: pointer;\n",
              "      display: none;\n",
              "      fill: #1967D2;\n",
              "      height: 32px;\n",
              "      padding: 0 0 0 0;\n",
              "      width: 32px;\n",
              "    }\n",
              "\n",
              "    .colab-df-convert:hover {\n",
              "      background-color: #E2EBFA;\n",
              "      box-shadow: 0px 1px 2px rgba(60, 64, 67, 0.3), 0px 1px 3px 1px rgba(60, 64, 67, 0.15);\n",
              "      fill: #174EA6;\n",
              "    }\n",
              "\n",
              "    [theme=dark] .colab-df-convert {\n",
              "      background-color: #3B4455;\n",
              "      fill: #D2E3FC;\n",
              "    }\n",
              "\n",
              "    [theme=dark] .colab-df-convert:hover {\n",
              "      background-color: #434B5C;\n",
              "      box-shadow: 0px 1px 3px 1px rgba(0, 0, 0, 0.15);\n",
              "      filter: drop-shadow(0px 1px 2px rgba(0, 0, 0, 0.3));\n",
              "      fill: #FFFFFF;\n",
              "    }\n",
              "  </style>\n",
              "\n",
              "      <script>\n",
              "        const buttonEl =\n",
              "          document.querySelector('#df-8549a1cd-83be-4ce2-9e0e-a7acba5c037f button.colab-df-convert');\n",
              "        buttonEl.style.display =\n",
              "          google.colab.kernel.accessAllowed ? 'block' : 'none';\n",
              "\n",
              "        async function convertToInteractive(key) {\n",
              "          const element = document.querySelector('#df-8549a1cd-83be-4ce2-9e0e-a7acba5c037f');\n",
              "          const dataTable =\n",
              "            await google.colab.kernel.invokeFunction('convertToInteractive',\n",
              "                                                     [key], {});\n",
              "          if (!dataTable) return;\n",
              "\n",
              "          const docLinkHtml = 'Like what you see? Visit the ' +\n",
              "            '<a target=\"_blank\" href=https://colab.research.google.com/notebooks/data_table.ipynb>data table notebook</a>'\n",
              "            + ' to learn more about interactive tables.';\n",
              "          element.innerHTML = '';\n",
              "          dataTable['output_type'] = 'display_data';\n",
              "          await google.colab.output.renderOutput(dataTable, element);\n",
              "          const docLink = document.createElement('div');\n",
              "          docLink.innerHTML = docLinkHtml;\n",
              "          element.appendChild(docLink);\n",
              "        }\n",
              "      </script>\n",
              "    </div>\n",
              "  </div>\n",
              "  "
            ]
          },
          "metadata": {},
          "execution_count": 30
        }
      ]
    },
    {
      "cell_type": "code",
      "source": [
        "categories = data.groupby('category')\n",
        "print(\"total categories:\", categories.ngroups)\n",
        "print(categories.size())"
      ],
      "metadata": {
        "colab": {
          "base_uri": "https://localhost:8080/"
        },
        "id": "FxYJ0yaoYWxo",
        "outputId": "17c25bfb-7b14-4cca-a5f3-1f721baf891b"
      },
      "execution_count": 31,
      "outputs": [
        {
          "output_type": "stream",
          "name": "stdout",
          "text": [
            "total categories: 41\n",
            "category\n",
            "ARTS               1509\n",
            "ARTS & CULTURE     1339\n",
            "BLACK VOICES       4528\n",
            "BUSINESS           5937\n",
            "COLLEGE            1144\n",
            "COMEDY             5175\n",
            "CRIME              3405\n",
            "CULTURE & ARTS     1030\n",
            "DIVORCE            3426\n",
            "EDUCATION          1004\n",
            "ENTERTAINMENT     16058\n",
            "ENVIRONMENT        1323\n",
            "FIFTY              1401\n",
            "FOOD & DRINK       6226\n",
            "GOOD NEWS          1398\n",
            "GREEN              2622\n",
            "HEALTHY LIVING     6694\n",
            "HOME & LIVING      4195\n",
            "IMPACT             3459\n",
            "LATINO VOICES      1129\n",
            "MEDIA              2815\n",
            "MONEY              1707\n",
            "PARENTING          8677\n",
            "PARENTS            3955\n",
            "POLITICS          32739\n",
            "QUEER VOICES       6314\n",
            "RELIGION           2556\n",
            "SCIENCE            2178\n",
            "SPORTS             4884\n",
            "STYLE              2254\n",
            "STYLE & BEAUTY     9649\n",
            "TASTE              2096\n",
            "TECH               2082\n",
            "THE WORLDPOST      3664\n",
            "TRAVEL             9887\n",
            "WEDDINGS           3651\n",
            "WEIRD NEWS         2670\n",
            "WELLNESS          17827\n",
            "WOMEN              3490\n",
            "WORLD NEWS         2177\n",
            "WORLDPOST          2579\n",
            "dtype: int64\n"
          ]
        }
      ]
    },
    {
      "cell_type": "code",
      "source": [
        "women = data[data['category']=='WOMEN'].index.values\n",
        "qv = data[data['category']=='QUEER VOICES'].index.values\n",
        "fifty = data[data['category']=='FIFTY'].index.values\n",
        "hl = data[data['category']=='HOME & LIVING'].index.values\n",
        "wn = data[data['category']=='WEIRD NEWS'].index.values\n",
        "lv = data[data['category']=='LATINO VOICES'].index.values\n",
        "impact = data[data['category']=='IMPACT'].index.values\n",
        "\n",
        "\n",
        "data.drop(index = qv, inplace = True, axis=0)\n",
        "data.drop(index = fifty, inplace = True, axis=0)\n",
        "data.drop(index = hl, inplace = True, axis=0)\n",
        "data.drop(index = wn, inplace = True, axis=0)\n",
        "data.drop(index = lv, inplace = True, axis=0)\n",
        "data.drop(index = impact, inplace = True, axis=0)\n",
        "data.drop(index = women, inplace = True, axis=0)"
      ],
      "metadata": {
        "id": "N2j447P_YZyX"
      },
      "execution_count": 32,
      "outputs": []
    },
    {
      "cell_type": "code",
      "source": [
        "data.category = data.category.map(lambda x: \"ARTS , CULTURE & ENVIRONMENT\" if x == \"CULTURE & ARTS\" or x =='ARTS' or  x == \"GREEN\" or  x == \"ENVIRONMENT\" or x == 'ARTS & CULTURE' else x)\n",
        "data.category = data.category.map(lambda x: \"BLACK LIVES MATTER\" if x == \"BLACK VOICES\" else x)\n",
        "data.category = data.category.map(lambda x: \"BUSINESS & MONEY\" if x == \"BUSINESS\" or x =='MONEY' else x)\n",
        "data.category = data.category.map(lambda x: \"LAW & CRIME\" if x == \"DIVORCE\" or x =='CRIME' else x)\n",
        "data.category = data.category.map(lambda x: \"SPORTS & EDUCATION\" if x == \"EDUCATION\" or x =='TECH' or x == 'SCIENCE' or x == 'SPORTS' or x == 'COLLEGE' else x)\n",
        "data.category = data.category.map(lambda x: \"ENTERTAINMENT\" if x == \"MEDIA\" or x =='COMEDY' else x)\n",
        "data.category = data.category.map(lambda x: \"FOOD & TRAVEL\" if x == \"FOOD & DRINK\" or x =='TRAVEL' or x =='TASTE' else x)\n",
        "data.category = data.category.map(lambda x: \"PARENTING\" if x == \"PARENTS\"  else x)\n",
        "data.category = data.category.map(lambda x: \"STYLE & BEAUTY\" if x == \"STYLE\"  else x)\n",
        "data.category = data.category.map(lambda x: \"WORLD NEWS\" if x == \"THE WORLDPOST\" or x =='WORLDPOST' else x)\n",
        "data.category = data.category.map(lambda x: \"GOOD NEWS\" if x == \"WEDDINGS\" or x =='HEALTHY LIVING' or x == 'WELLNESS' else x)\n",
        "data.category = data.category.map(lambda x: \"POLITICS & RELIGION\" if x == \"RELIGION\" or x =='POLITICS' else x)"
      ],
      "metadata": {
        "id": "QtWTUBHwY1I6"
      },
      "execution_count": 33,
      "outputs": []
    },
    {
      "cell_type": "code",
      "source": [
        "duplicate = data[data.duplicated(['short_description','headline','category'])].index.values\n",
        "data.drop(index = duplicate, inplace = True, axis=0)"
      ],
      "metadata": {
        "id": "MiISk-EUY4Sf"
      },
      "execution_count": 34,
      "outputs": []
    },
    {
      "cell_type": "code",
      "source": [
        "data.headline = data['headline'].str.lower()\n",
        "data.short_description = data['short_description'].str.lower()"
      ],
      "metadata": {
        "id": "YWVkU3HEY6mv"
      },
      "execution_count": 35,
      "outputs": []
    },
    {
      "cell_type": "code",
      "source": [
        "pr = data[data['category']=='POLITICS & RELIGION'].index.values\n",
        "data.drop(index = pr, inplace = True, axis=0)"
      ],
      "metadata": {
        "id": "L-B6c-oBokzy"
      },
      "execution_count": 36,
      "outputs": []
    },
    {
      "cell_type": "code",
      "source": [
        "# finding & removing empty columns\n",
        "print(len(data[data['headline'] == \"\"]))\n",
        "data.loc[data['headline'] == \"\", 'headline'] = np.nan\n",
        "data.dropna(subset=['headline'], inplace=True)\n",
        "print(len(data[data['headline'] == \"\"]))"
      ],
      "metadata": {
        "colab": {
          "base_uri": "https://localhost:8080/"
        },
        "id": "C50tcCeYaqj8",
        "outputId": "d620ce5f-4221-4aff-ee0a-7aaddfbbbfe3"
      },
      "execution_count": 37,
      "outputs": [
        {
          "output_type": "stream",
          "name": "stdout",
          "text": [
            "3\n",
            "0\n"
          ]
        }
      ]
    },
    {
      "cell_type": "code",
      "source": [
        "print(len(data[data['short_description'] == \"\"]))\n",
        "data.loc[data['short_description'] == \"\", 'short_description'] = np.nan\n",
        "data.dropna(subset=['short_description'], inplace=True)\n",
        "print(len(data[data['short_description'] == \"\"]))"
      ],
      "metadata": {
        "colab": {
          "base_uri": "https://localhost:8080/"
        },
        "id": "ohc1ll6za0gq",
        "outputId": "dd03dd22-211c-45e0-f57e-f688b6607cff"
      },
      "execution_count": 38,
      "outputs": [
        {
          "output_type": "stream",
          "name": "stdout",
          "text": [
            "13345\n",
            "0\n"
          ]
        }
      ]
    },
    {
      "cell_type": "code",
      "source": [
        "# Displaying the categories after grouping\n",
        "categories = data.groupby('category')\n",
        "print(\"total categories:\", categories.ngroups)\n",
        "print(categories.size())"
      ],
      "metadata": {
        "colab": {
          "base_uri": "https://localhost:8080/"
        },
        "id": "2nlcF810bSRL",
        "outputId": "f1ebeec9-e0e4-4726-d4da-57c558f4a92f"
      },
      "execution_count": 39,
      "outputs": [
        {
          "output_type": "stream",
          "name": "stdout",
          "text": [
            "total categories: 11\n",
            "category\n",
            "ARTS , CULTURE & ENVIRONMENT     6583\n",
            "BLACK LIVES MATTER               4119\n",
            "BUSINESS & MONEY                 6781\n",
            "ENTERTAINMENT                   20158\n",
            "FOOD & TRAVEL                   17562\n",
            "GOOD NEWS                       27774\n",
            "LAW & CRIME                      6097\n",
            "PARENTING                       12164\n",
            "SPORTS & EDUCATION               9841\n",
            "STYLE & BEAUTY                  11068\n",
            "WORLD NEWS                       7080\n",
            "dtype: int64\n"
          ]
        }
      ]
    },
    {
      "cell_type": "code",
      "source": [
        "data['text'] = data['headline'] + \" \" + data['short_description']\n",
        "data.drop(columns=['headline','short_description'], inplace=True, axis=1)"
      ],
      "metadata": {
        "id": "6aU9cxcPbXzw"
      },
      "execution_count": 40,
      "outputs": []
    },
    {
      "cell_type": "code",
      "source": [
        "data.to_csv('cleaned_data.csv', index=False)"
      ],
      "metadata": {
        "id": "Na-S8R2AbcvH"
      },
      "execution_count": 41,
      "outputs": []
    },
    {
      "cell_type": "code",
      "source": [
        "path = \"cleaned_data.csv\"\n",
        "data = pd.read_csv(path)\n",
        "print(data.head(3))"
      ],
      "metadata": {
        "colab": {
          "base_uri": "https://localhost:8080/"
        },
        "id": "ERij-A0qbhoG",
        "outputId": "24b4ca74-4c73-42ab-f3de-c461613c6b86"
      },
      "execution_count": 42,
      "outputs": [
        {
          "output_type": "stream",
          "name": "stdout",
          "text": [
            "        category                                               text\n",
            "0    LAW & CRIME  there were 2 mass shootings in texas last week...\n",
            "1  ENTERTAINMENT  will smith joins diplo and nicky jam for the 2...\n",
            "2  ENTERTAINMENT  hugh grant marries for the first time at age 5...\n"
          ]
        }
      ]
    },
    {
      "cell_type": "code",
      "source": [
        "# Tokenizing\n",
        "vocab_size = 10000\n",
        "embedding_dim = 32\n",
        "max_length = 150\n",
        "trunc_type = 'post'\n",
        "oov_tok = '<OOV>'\n",
        "padding_post = 'post'\n",
        "\n",
        "tokenizer = Tokenizer(num_words=vocab_size, oov_token = oov_tok, split=' ')\n",
        "tokenizer.fit_on_texts(data['text'].values)\n",
        "X = tokenizer.texts_to_sequences(data['text'].values)\n",
        "X = pad_sequences(X, padding=padding_post, maxlen=max_length, truncating=trunc_type)"
      ],
      "metadata": {
        "id": "lX1fJS7ubpem"
      },
      "execution_count": 43,
      "outputs": []
    },
    {
      "cell_type": "code",
      "source": [
        "keras.backend.clear_session()\n",
        "ann = tf.keras.models.Sequential()\n",
        "ann.add(tf.keras.layers.Dense(units=20, activation='relu'))\n",
        "ann.add(tf.keras.layers.Dense(units=20, activation='relu'))\n",
        "ann.add(tf.keras.layers.Dense(units=20, activation='relu'))\n",
        "ann.add(tf.keras.layers.Dense(units=20, activation='relu'))\n",
        "ann.add(tf.keras.layers.Dense(units=20, activation='relu'))\n",
        "ann.add(keras.layers.Dense(11,activation='softmax'))\n",
        "\n",
        "ann.compile(loss='categorical_crossentropy', optimizer='adam', metrics=['acc'])"
      ],
      "metadata": {
        "id": "zRZPiDAsgS5Y"
      },
      "execution_count": 44,
      "outputs": []
    },
    {
      "cell_type": "code",
      "source": [
        "Y = pd.get_dummies(data['category']).values"
      ],
      "metadata": {
        "id": "E6X2hc2bcZVg"
      },
      "execution_count": 45,
      "outputs": []
    },
    {
      "cell_type": "code",
      "source": [
        "# Splitting data into train,valid,test\n",
        "X_train, X_test, Y_train, Y_test = train_test_split(X,Y, test_size = 0.2, random_state = 42)\n",
        "X_valid, X_test, Y_valid, Y_test = train_test_split(X_test,Y_test, test_size = 0.5, random_state = 42)\n",
        "print(X_train.shape,Y_train.shape)\n",
        "print(X_valid.shape,Y_valid.shape)\n",
        "print(X_test.shape,Y_test.shape)"
      ],
      "metadata": {
        "colab": {
          "base_uri": "https://localhost:8080/"
        },
        "id": "3IasiqsEey4X",
        "outputId": "2bae512c-25b7-41c4-8d14-6021d48f2b8e"
      },
      "execution_count": 46,
      "outputs": [
        {
          "output_type": "stream",
          "name": "stdout",
          "text": [
            "(103381, 150) (103381, 11)\n",
            "(12923, 150) (12923, 11)\n",
            "(12923, 150) (12923, 11)\n"
          ]
        }
      ]
    },
    {
      "cell_type": "code",
      "source": [
        "ann.fit(X_train, Y_train, batch_size = 32, epochs = 10, validation_data=(X_valid,Y_valid))"
      ],
      "metadata": {
        "colab": {
          "base_uri": "https://localhost:8080/"
        },
        "id": "xBVHxkrre1Pz",
        "outputId": "0dd832bd-8264-43a2-f5d9-39d52a57ee5d"
      },
      "execution_count": 47,
      "outputs": [
        {
          "output_type": "stream",
          "name": "stdout",
          "text": [
            "Epoch 1/10\n",
            "3231/3231 [==============================] - 10s 3ms/step - loss: 4.1229 - acc: 0.2060 - val_loss: 2.2405 - val_acc: 0.2109\n",
            "Epoch 2/10\n",
            "3231/3231 [==============================] - 5s 2ms/step - loss: 2.2411 - acc: 0.2154 - val_loss: 2.2402 - val_acc: 0.2109\n",
            "Epoch 3/10\n",
            "3231/3231 [==============================] - 5s 1ms/step - loss: 2.2410 - acc: 0.2154 - val_loss: 2.2410 - val_acc: 0.2109\n",
            "Epoch 4/10\n",
            "3231/3231 [==============================] - 5s 1ms/step - loss: 2.2410 - acc: 0.2154 - val_loss: 2.2411 - val_acc: 0.2109\n",
            "Epoch 5/10\n",
            "3231/3231 [==============================] - 5s 2ms/step - loss: 2.2408 - acc: 0.2154 - val_loss: 2.2411 - val_acc: 0.2109\n",
            "Epoch 6/10\n",
            "3231/3231 [==============================] - 5s 2ms/step - loss: 2.2409 - acc: 0.2154 - val_loss: 2.2412 - val_acc: 0.2109\n",
            "Epoch 7/10\n",
            "3231/3231 [==============================] - 5s 1ms/step - loss: 2.2409 - acc: 0.2154 - val_loss: 2.2413 - val_acc: 0.2109\n",
            "Epoch 8/10\n",
            "3231/3231 [==============================] - 5s 1ms/step - loss: 2.2409 - acc: 0.2154 - val_loss: 2.2411 - val_acc: 0.2109\n",
            "Epoch 9/10\n",
            "3231/3231 [==============================] - 7s 2ms/step - loss: 2.2408 - acc: 0.2154 - val_loss: 2.2411 - val_acc: 0.2109\n",
            "Epoch 10/10\n",
            "3231/3231 [==============================] - 5s 2ms/step - loss: 2.2409 - acc: 0.2154 - val_loss: 2.2410 - val_acc: 0.2109\n"
          ]
        },
        {
          "output_type": "execute_result",
          "data": {
            "text/plain": [
              "<keras.callbacks.History at 0x7f424a487350>"
            ]
          },
          "metadata": {},
          "execution_count": 47
        }
      ]
    },
    {
      "cell_type": "code",
      "source": [
        "Y_pred = ann.predict(X_test)\n",
        "Y_pred = np.argmax(Y_pred, axis=1)\n",
        "Y_test_ = np.argmax(Y_test, axis=1)\n",
        "\n",
        "CM = confusion_matrix(Y_test_, Y_pred)\n",
        "TP = CM[1][1]\n",
        "FP = CM[0][1]\n",
        "\n",
        "for _ in range(3):\n",
        "  print()\n",
        "print(\"-----------------------------------------------------------------------------\")\n",
        "print(\"Accuracy: \",metrics.accuracy_score(Y_test_, Y_pred))\n",
        "print(\"TP Rate: \", TP)\n",
        "print(\"FP Rate: \", FP)\n",
        "print(\"MCC: \", metrics.matthews_corrcoef(Y_test_, Y_pred))\n",
        "print(\"-----------------------------------------------------------------------------\")\n",
        "print(classification_report(Y_test_, Y_pred))"
      ],
      "metadata": {
        "id": "lbBGAgy6fGv7",
        "colab": {
          "base_uri": "https://localhost:8080/"
        },
        "outputId": "84342928-2e5e-4106-b472-b5ca71713dcc"
      },
      "execution_count": 48,
      "outputs": [
        {
          "output_type": "stream",
          "name": "stdout",
          "text": [
            "\n",
            "\n",
            "\n",
            "-----------------------------------------------------------------------------\n",
            "Accuracy:  0.21512032809719106\n",
            "TP Rate:  0\n",
            "FP Rate:  0\n",
            "MCC:  0.0\n",
            "-----------------------------------------------------------------------------\n",
            "              precision    recall  f1-score   support\n",
            "\n",
            "           0       0.00      0.00      0.00       654\n",
            "           1       0.00      0.00      0.00       391\n",
            "           2       0.00      0.00      0.00       674\n",
            "           3       0.00      0.00      0.00      2100\n",
            "           4       0.00      0.00      0.00      1755\n",
            "           5       0.22      1.00      0.35      2780\n",
            "           6       0.00      0.00      0.00       601\n",
            "           7       0.00      0.00      0.00      1186\n",
            "           8       0.00      0.00      0.00       975\n",
            "           9       0.00      0.00      0.00      1117\n",
            "          10       0.00      0.00      0.00       690\n",
            "\n",
            "    accuracy                           0.22     12923\n",
            "   macro avg       0.02      0.09      0.03     12923\n",
            "weighted avg       0.05      0.22      0.08     12923\n",
            "\n"
          ]
        }
      ]
    },
    {
      "cell_type": "code",
      "source": [
        "cf_matrix = confusion_matrix(Y_test_, Y_pred)\n",
        "Labels = ['ARTS , CULTURE & ENVIRONMENT', 'BLACK LIVES MATTER', 'BUSINESS & MONEY', 'ENTERTAINMENT', 'FOOD & TRAVEL', 'GOOD NEWS', 'LAW & CRIME', 'PARENTING', 'POLITICS & RELIGION', 'SPORTS & EDUCATION', 'STYLE & BEAUTY', 'WORLD NEWS']\n",
        "plt.figure(figsize=(8, 8))\n",
        "heatmap = sns.heatmap(cf_matrix, xticklabels=Labels, yticklabels=Labels, annot=True, fmt='d', color='blue')\n",
        "plt.xlabel('Predicted Class')\n",
        "plt.ylabel('True Class')\n",
        "plt.title('Confusion Matrix')\n",
        "plt.show()"
      ],
      "metadata": {
        "id": "7LCs7-WDfTos"
      },
      "execution_count": 49,
      "outputs": []
    }
  ]
}