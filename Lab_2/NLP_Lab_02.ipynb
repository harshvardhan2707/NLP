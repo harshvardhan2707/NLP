{
  "nbformat": 4,
  "nbformat_minor": 0,
  "metadata": {
    "colab": {
      "provenance": [],
      "collapsed_sections": []
    },
    "kernelspec": {
      "name": "python3",
      "display_name": "Python 3"
    },
    "language_info": {
      "name": "python"
    }
  },
  "cells": [
    {
      "cell_type": "markdown",
      "source": [
        "#Harshvardhan Aditya- E20CSE365"
      ],
      "metadata": {
        "id": "YHGj_iTKvpE0"
      }
    },
    {
      "cell_type": "markdown",
      "source": [
        "Sentence segmentation using spacy"
      ],
      "metadata": {
        "id": "Q3F9yNzTWHzw"
      }
    },
    {
      "cell_type": "code",
      "source": [
        "import spacy\n",
        "import time\n",
        "nlp = spacy.load(\"en_core_web_sm\")\n",
        "s=\"Born in Albuquerque and raised in Houston and Miami, Bezos graduated from Princeton University in 1986. He holds a degree in electrical engineering and computer science. He worked on Wall Street in a variety of related fields from 1986 to early 1994. Bezos founded Amazon in late 1994 on a road trip from New York City to Seattle. The company began as an online bookstore and has since expanded to a variety of other e-commerce products and services, including video and audio streaming, cloud computing, and artificial intelligence. It is currently the world's largest online sales company, the largest Internet company by revenue, and the largest provider of virtual assistants and cloud infrastructure services through its Amazon Web Services branch.\"\n",
        "l=nlp(s)\n",
        "st1=time.time()\n",
        "w=[]\n",
        "for sent in l.sents:\n",
        "  w.append(sent)\n",
        "et1=time.time()\n",
        "print(w)\n",
        "\n",
        "print(\"Time taken by spacy for sentence segmentation: \", 1000*(et1-st1))"
      ],
      "metadata": {
        "colab": {
          "base_uri": "https://localhost:8080/"
        },
        "id": "E9I8OuiGYGHp",
        "outputId": "4b48a00d-555f-4f41-bea3-6bfeab46f261"
      },
      "execution_count": null,
      "outputs": [
        {
          "output_type": "stream",
          "name": "stdout",
          "text": [
            "[Born in Albuquerque and raised in Houston and Miami, Bezos graduated from Princeton University in 1986., He holds a degree in electrical engineering and computer science., He worked on Wall Street in a variety of related fields from 1986 to early 1994., Bezos founded Amazon in late 1994 on a road trip from New York City to Seattle., The company began as an online bookstore and has since expanded to a variety of other e-commerce products and services, including video and audio streaming, cloud computing, and artificial intelligence., It is currently the world's largest online sales company, the largest Internet company by revenue, and the largest provider of virtual assistants and cloud infrastructure services through its Amazon Web Services branch.]\n",
            "Time taken by spacy for sentence segmentation:  0.37670135498046875\n"
          ]
        }
      ]
    },
    {
      "cell_type": "markdown",
      "source": [
        "Sentence segmentation using nltk"
      ],
      "metadata": {
        "id": "JB2qibhWT7wT"
      }
    },
    {
      "cell_type": "code",
      "source": [
        "import nltk\n",
        "nltk.download('punkt')\n",
        "\n",
        "from nltk.tokenize import sent_tokenize\n",
        "st2=time.time()\n",
        "print(sent_tokenize(s))\n",
        "et2=time.time()\n",
        "print(\"Time taken by nltk for sentence segmentation: \",1000*( et2-st2))\n"
      ],
      "metadata": {
        "colab": {
          "base_uri": "https://localhost:8080/"
        },
        "id": "bgjEyMvYT-Iz",
        "outputId": "07e615bb-0dac-4f77-ede7-d4db41b42a9c"
      },
      "execution_count": null,
      "outputs": [
        {
          "output_type": "stream",
          "name": "stdout",
          "text": [
            "['Born in Albuquerque and raised in Houston and Miami, Bezos graduated from Princeton University in 1986.', 'He holds a degree in electrical engineering and computer science.', 'He worked on Wall Street in a variety of related fields from 1986 to early 1994.', 'Bezos founded Amazon in late 1994 on a road trip from New York City to Seattle.', 'The company began as an online bookstore and has since expanded to a variety of other e-commerce products and services, including video and audio streaming, cloud computing, and artificial intelligence.', \"It is currently the world's largest online sales company, the largest Internet company by revenue, and the largest provider of virtual assistants and cloud infrastructure services through its Amazon Web Services branch.\"]\n",
            "Time taken by nltk for sentence segmentation:  0.5397796630859375\n"
          ]
        },
        {
          "output_type": "stream",
          "name": "stderr",
          "text": [
            "[nltk_data] Downloading package punkt to /root/nltk_data...\n",
            "[nltk_data]   Package punkt is already up-to-date!\n"
          ]
        }
      ]
    },
    {
      "cell_type": "markdown",
      "source": [
        "NLTK takes more time than spacy for senetence segmentation"
      ],
      "metadata": {
        "id": "amxNmloGVNdk"
      }
    },
    {
      "cell_type": "markdown",
      "source": [
        "Phrase Matching"
      ],
      "metadata": {
        "id": "_XlIHjEJPpro"
      }
    },
    {
      "cell_type": "code",
      "source": [
        "from spacy.matcher import PhraseMatcher\n",
        "matcher = PhraseMatcher(nlp.vocab)"
      ],
      "metadata": {
        "id": "8CY8ysFkqQkb"
      },
      "execution_count": null,
      "outputs": []
    },
    {
      "cell_type": "code",
      "source": [
        "def on_match(matcher, doc, id, matches):\n",
        "  print('Matched!', matches)"
      ],
      "metadata": {
        "id": "wHkk49CjqsQu"
      },
      "execution_count": null,
      "outputs": []
    },
    {
      "cell_type": "code",
      "source": [
        "matcher.add(\"OBAMA\", [nlp(\"Barack Obama\")], on_match=on_match)\n",
        "doc = nlp(\"Barack Obama urges Congress to find courage to defend his healthcare reforms\")\n",
        "matches = matcher(doc)"
      ],
      "metadata": {
        "colab": {
          "base_uri": "https://localhost:8080/"
        },
        "id": "3JagZoiVqQed",
        "outputId": "1bc1d4e1-34e9-4b11-9e9d-def2f9480039"
      },
      "execution_count": null,
      "outputs": [
        {
          "output_type": "stream",
          "name": "stdout",
          "text": [
            "Matched! [(7732777389095836264, 0, 2)]\n"
          ]
        }
      ]
    },
    {
      "cell_type": "code",
      "source": [
        "matcher.add(\"iPhone 11 Pro\", [nlp(\"iPhone 11 Pro\")], on_match=on_match)\n",
        "doc1=nlp(\"Glowing review overall, and some really interesting side-by-side photography tests pitting the iPhone 11 Pro against the Galaxy Note 10 Plus and last year’s iPhone XS and Google Pixel 3.\" )\n",
        "matches1 = matcher(doc1)"
      ],
      "metadata": {
        "colab": {
          "base_uri": "https://localhost:8080/"
        },
        "id": "OYjbeVzNrZqP",
        "outputId": "abeaaee5-f255-4209-f29e-98c135250681"
      },
      "execution_count": null,
      "outputs": [
        {
          "output_type": "stream",
          "name": "stdout",
          "text": [
            "Matched! [(1896490869458706943, 17, 20)]\n"
          ]
        }
      ]
    },
    {
      "cell_type": "code",
      "source": [
        "import bs4 as bs  \n",
        "import urllib.request  \n",
        "import re  \n",
        "import nltk\n",
        "\n",
        "scrapped_data = urllib.request.urlopen('https://en.wikipedia.org/wiki/Artificial_intelligence')  \n",
        "article = scrapped_data .read()\n",
        "\n",
        "parsed_article = bs.BeautifulSoup(article,'lxml')\n",
        "\n",
        "paragraphs = parsed_article.find_all('p')\n",
        "\n",
        "article_text = \"\"\n",
        "\n",
        "for p in paragraphs:  \n",
        "    article_text += p.text\n",
        "    \n",
        "    \n",
        "processed_article = article_text.lower()  \n",
        "processed_article = re.sub('[^a-zA-Z]', ' ', processed_article )  \n",
        "processed_article = re.sub(r'\\s+', ' ', processed_article)"
      ],
      "metadata": {
        "id": "HaNqtW0Wzb6W"
      },
      "execution_count": null,
      "outputs": []
    },
    {
      "cell_type": "code",
      "source": [
        "from spacy.matcher import PhraseMatcher\n",
        "phrase_matcher = PhraseMatcher(nlp.vocab)\n",
        "phrases = ['machine learning', 'robots', 'intelligent agents']\n",
        "\n",
        "patterns = [nlp(text) for text in phrases]\n",
        "phrase_matcher.add('AI', None, *patterns)\n",
        "sentence = nlp (processed_article)\n",
        "\n",
        "matched_phrases = phrase_matcher(sentence)\n",
        "print(matched_phrases)"
      ],
      "metadata": {
        "colab": {
          "base_uri": "https://localhost:8080/"
        },
        "id": "a762ja5Ezb23",
        "outputId": "3f1a6bf2-048e-4fde-988d-b7becbf1ae9c"
      },
      "execution_count": null,
      "outputs": [
        {
          "output_type": "stream",
          "name": "stdout",
          "text": [
            "[(5530044837203964789, 31, 33), (5530044837203964789, 292, 294), (5530044837203964789, 1217, 1218), (5530044837203964789, 1354, 1356), (5530044837203964789, 2055, 2057), (5530044837203964789, 2552, 2553), (5530044837203964789, 3674, 3676), (5530044837203964789, 3688, 3690), (5530044837203964789, 4849, 4851), (5530044837203964789, 4871, 4873), (5530044837203964789, 5386, 5388), (5530044837203964789, 5413, 5415), (5530044837203964789, 6610, 6611), (5530044837203964789, 6779, 6781), (5530044837203964789, 6858, 6859), (5530044837203964789, 6859, 6861), (5530044837203964789, 7246, 7247), (5530044837203964789, 7780, 7781), (5530044837203964789, 8340, 8341), (5530044837203964789, 9067, 9069), (5530044837203964789, 9544, 9546), (5530044837203964789, 9866, 9868)]\n"
          ]
        }
      ]
    },
    {
      "cell_type": "code",
      "source": [
        "for match_id, start, end in matched_phrases:\n",
        "    string_id = nlp.vocab.strings[match_id]  \n",
        "    span = sentence[start:end]                   \n",
        "    print(match_id, string_id, start, end, span.text)"
      ],
      "metadata": {
        "colab": {
          "base_uri": "https://localhost:8080/"
        },
        "id": "PkllTfV0zb0U",
        "outputId": "4f512ef6-a003-497d-c90f-448200663d65"
      },
      "execution_count": null,
      "outputs": [
        {
          "output_type": "stream",
          "name": "stdout",
          "text": [
            "5530044837203964789 AI 31 33 intelligent agents\n",
            "5530044837203964789 AI 292 294 machine learning\n",
            "5530044837203964789 AI 1217 1218 robots\n",
            "5530044837203964789 AI 1354 1356 machine learning\n",
            "5530044837203964789 AI 2055 2057 machine learning\n",
            "5530044837203964789 AI 2552 2553 robots\n",
            "5530044837203964789 AI 3674 3676 machine learning\n",
            "5530044837203964789 AI 3688 3690 machine learning\n",
            "5530044837203964789 AI 4849 4851 machine learning\n",
            "5530044837203964789 AI 4871 4873 machine learning\n",
            "5530044837203964789 AI 5386 5388 machine learning\n",
            "5530044837203964789 AI 5413 5415 machine learning\n",
            "5530044837203964789 AI 6610 6611 robots\n",
            "5530044837203964789 AI 6779 6781 machine learning\n",
            "5530044837203964789 AI 6858 6859 robots\n",
            "5530044837203964789 AI 6859 6861 machine learning\n",
            "5530044837203964789 AI 7246 7247 robots\n",
            "5530044837203964789 AI 7780 7781 robots\n",
            "5530044837203964789 AI 8340 8341 robots\n",
            "5530044837203964789 AI 9067 9069 machine learning\n",
            "5530044837203964789 AI 9544 9546 machine learning\n",
            "5530044837203964789 AI 9866 9868 machine learning\n"
          ]
        }
      ]
    }
  ]
}